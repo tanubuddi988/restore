{
 "cells": [
  {
   "cell_type": "code",
   "execution_count": null,
   "metadata": {
    "provenance": [
     {
      "end_time": "Unknown",
      "execution_time": "Unknown",
      "outputs": [],
      "source": "print(\"Hello there!\\nHow are you?\\nI\\'m doing fine.\")\nHello there!\nHow are you?",
      "start_time": "Unknown"
     }
    ]
   },
   "outputs": [],
   "source": [
    "print(\"Hello there!\\nHow are you?\\nI\\'m doing fine.\")\n",
    "Hello there!\n",
    "How are you?"
   ]
  },
  {
   "cell_type": "markdown",
   "metadata": {
    "provenance": [
     {
      "last_modified": "2022-02-10T12:34:22.000Z",
      "source": "### Raw Strings\n\nA raw string completely ignores all escape characters and prints any backslash that appears in the string."
     }
    ]
   },
   "source": [
    "### Raw Strings\n",
    "\n",
    "A raw string completely ignores all escape characters and prints any backslash that appears in the string."
   ]
  },
  {
   "cell_type": "code",
   "execution_count": null,
   "metadata": {
    "provenance": [
     {
      "end_time": "Unknown",
      "execution_time": "Unknown",
      "outputs": [],
      "source": "print(r'That is Carol\\'s cat.')",
      "start_time": "Unknown"
     }
    ]
   },
   "outputs": [],
   "source": [
    "print(r'That is Carol\\'s cat.')"
   ]
  },
  {
   "cell_type": "markdown",
   "metadata": {
    "provenance": [
     {
      "last_modified": "2022-02-10T12:34:22.000Z",
      "source": "Note: mostly used for regular expression definition (see `re` package)\n\n### Multiline Strings with Triple Quotes"
     }
    ]
   },
   "source": [
    "Note: mostly used for regular expression definition (see `re` package)\n",
    "\n",
    "### Multiline Strings with Triple Quotes"
   ]
  },
  {
   "cell_type": "code",
   "execution_count": null,
   "metadata": {
    "provenance": [
     {
      "end_time": "Unknown",
      "execution_time": "Unknown",
      "outputs": [],
      "source": "print('''Dear Alice,\n\nEve's cat has been arrested for catnapping, cat burglary, and extortion.\n\nSincerely,\nBob''')",
      "start_time": "Unknown"
     }
    ]
   },
   "outputs": [],
   "source": [
    "print('''Dear Alice,\n",
    "\n",
    "Eve's cat has been arrested for catnapping, cat burglary, and extortion.\n",
    "\n",
    "Sincerely,\n",
    "Bob''')"
   ]
  },
  {
   "cell_type": "markdown",
   "metadata": {
    "provenance": [
     {
      "last_modified": "2022-02-10T12:34:22.000Z",
      "source": "To keep a nicer flow in your code, you can use the `dedent` function from the `textwrap` standard package."
     }
    ]
   },
   "source": [
    "To keep a nicer flow in your code, you can use the `dedent` function from the `textwrap` standard package."
   ]
  },
  {
   "cell_type": "code",
   "execution_count": null,
   "metadata": {
    "provenance": [
     {
      "end_time": "Unknown",
      "execution_time": "Unknown",
      "outputs": [],
      "source": "from textwrap import dedent\n\ndef my_function():\n    print('''\n        Dear Alice,\n\n        Eve's cat has been arrested for catnapping, cat burglary, and extortion.\n\n        Sincerely,\n        Bob\n        ''').strip()",
      "start_time": "Unknown"
     }
    ]
   },
   "outputs": [],
   "source": [
    "from textwrap import dedent\n",
    "\n",
    "def my_function():\n",
    "    print('''\n",
    "        Dear Alice,\n",
    "\n",
    "        Eve's cat has been arrested for catnapping, cat burglary, and extortion.\n",
    "\n",
    "        Sincerely,\n",
    "        Bob\n",
    "        ''').strip()"
   ]
  },
  {
   "cell_type": "markdown",
   "metadata": {
    "provenance": [
     {
      "last_modified": "2022-02-10T12:34:22.000Z",
      "source": "This generates the same string than before.\n\n### Indexing and Slicing Strings"
     }
    ]
   },
   "source": [
    "This generates the same string than before.\n",
    "\n",
    "### Indexing and Slicing Strings"
   ]
  },
  {
   "cell_type": "code",
   "execution_count": null,
   "metadata": {
    "provenance": [
     {
      "end_time": "Unknown",
      "execution_time": "Unknown",
      "outputs": [],
      "source": "H   e   l   l   o       w   o   r   l   d    !\n0   1   2   3   4   5   6   7   8   9   10   11",
      "start_time": "Unknown"
     }
    ]
   },
   "outputs": [],
   "source": [
    "H   e   l   l   o       w   o   r   l   d    !\n",
    "0   1   2   3   4   5   6   7   8   9   10   11"
   ]
  },
  {
   "cell_type": "code",
   "execution_count": null,
   "metadata": {
    "provenance": [
     {
      "end_time": "Unknown",
      "execution_time": "Unknown",
      "outputs": [],
      "source": "spam = 'Hello world!'\nspam[0]",
      "start_time": "Unknown"
     }
    ]
   },
   "outputs": [],
   "source": [
    "spam = 'Hello world!'\n",
    "spam[0]"
   ]
  },
  {
   "cell_type": "code",
   "execution_count": null,
   "metadata": {
    "provenance": [
     {
      "end_time": "Unknown",
      "execution_time": "Unknown",
      "outputs": [],
      "source": "spam[4]",
      "start_time": "Unknown"
     }
    ]
   },
   "outputs": [],
   "source": [
    "spam[4]"
   ]
  },
  {
   "cell_type": "code",
   "execution_count": null,
   "metadata": {
    "provenance": [
     {
      "end_time": "Unknown",
      "execution_time": "Unknown",
      "outputs": [],
      "source": "spam[-1]",
      "start_time": "Unknown"
     }
    ]
   },
   "outputs": [],
   "source": [
    "spam[-1]"
   ]
  },
  {
   "cell_type": "markdown",
   "metadata": {
    "provenance": [
     {
      "last_modified": "2022-02-10T12:34:22.000Z",
      "source": "Slicing:"
     }
    ]
   },
   "source": [
    "Slicing:"
   ]
  },
  {
   "cell_type": "code",
   "execution_count": null,
   "metadata": {
    "provenance": [
     {
      "end_time": "Unknown",
      "execution_time": "Unknown",
      "outputs": [],
      "source": "\nspam[0:5]",
      "start_time": "Unknown"
     }
    ]
   },
   "outputs": [],
   "source": [
    "\n",
    "spam[0:5]"
   ]
  },
  {
   "cell_type": "code",
   "execution_count": null,
   "metadata": {
    "provenance": [
     {
      "end_time": "Unknown",
      "execution_time": "Unknown",
      "outputs": [],
      "source": "spam[:5]",
      "start_time": "Unknown"
     }
    ]
   },
   "outputs": [],
   "source": [
    "spam[:5]"
   ]
  },
  {
   "cell_type": "code",
   "execution_count": null,
   "metadata": {
    "provenance": [
     {
      "end_time": "Unknown",
      "execution_time": "Unknown",
      "outputs": [],
      "source": "spam[6:]",
      "start_time": "Unknown"
     }
    ]
   },
   "outputs": [],
   "source": [
    "spam[6:]"
   ]
  },
  {
   "cell_type": "code",
   "execution_count": null,
   "metadata": {
    "provenance": [
     {
      "end_time": "Unknown",
      "execution_time": "Unknown",
      "outputs": [],
      "source": "spam[6:-1]",
      "start_time": "Unknown"
     }
    ]
   },
   "outputs": [],
   "source": [
    "spam[6:-1]"
   ]
  },
  {
   "cell_type": "code",
   "execution_count": null,
   "metadata": {
    "provenance": [
     {
      "end_time": "Unknown",
      "execution_time": "Unknown",
      "outputs": [],
      "source": "spam[:-1]",
      "start_time": "Unknown"
     }
    ]
   },
   "outputs": [],
   "source": [
    "spam[:-1]"
   ]
  },
  {
   "cell_type": "code",
   "execution_count": null,
   "metadata": {
    "provenance": [
     {
      "end_time": "Unknown",
      "execution_time": "Unknown",
      "outputs": [],
      "source": "spam[::-1]",
      "start_time": "Unknown"
     }
    ]
   },
   "outputs": [],
   "source": [
    "spam[::-1]"
   ]
  },
  {
   "cell_type": "code",
   "execution_count": null,
   "metadata": {
    "provenance": [
     {
      "end_time": "Unknown",
      "execution_time": "Unknown",
      "outputs": [],
      "source": "spam = 'Hello world!'\nfizz = spam[0:5]\nfizz",
      "start_time": "Unknown"
     }
    ]
   },
   "outputs": [],
   "source": [
    "spam = 'Hello world!'\n",
    "fizz = spam[0:5]\n",
    "fizz"
   ]
  },
  {
   "cell_type": "markdown",
   "metadata": {
    "provenance": [
     {
      "last_modified": "2022-02-10T12:34:22.000Z",
      "source": "### The in and not in Operators with Strings"
     }
    ]
   },
   "source": [
    "### The in and not in Operators with Strings"
   ]
  },
  {
   "cell_type": "code",
   "execution_count": null,
   "metadata": {
    "provenance": [
     {
      "end_time": "Unknown",
      "execution_time": "Unknown",
      "outputs": [],
      "source": "'Hello' in 'Hello World'",
      "start_time": "Unknown"
     }
    ]
   },
   "outputs": [],
   "source": [
    "'Hello' in 'Hello World'"
   ]
  },
  {
   "cell_type": "code",
   "execution_count": null,
   "metadata": {
    "provenance": [
     {
      "end_time": "Unknown",
      "execution_time": "Unknown",
      "outputs": [],
      "source": "'Hello' in 'Hello'",
      "start_time": "Unknown"
     }
    ]
   },
   "outputs": [],
   "source": [
    "'Hello' in 'Hello'"
   ]
  },
  {
   "cell_type": "code",
   "execution_count": null,
   "metadata": {
    "provenance": [
     {
      "end_time": "Unknown",
      "execution_time": "Unknown",
      "outputs": [],
      "source": "'HELLO' in 'Hello World'",
      "start_time": "Unknown"
     }
    ]
   },
   "outputs": [],
   "source": [
    "'HELLO' in 'Hello World'"
   ]
  },
  {
   "cell_type": "code",
   "execution_count": null,
   "metadata": {
    "provenance": [
     {
      "end_time": "Unknown",
      "execution_time": "Unknown",
      "outputs": [],
      "source": "'' in 'spam'",
      "start_time": "Unknown"
     }
    ]
   },
   "outputs": [],
   "source": [
    "'' in 'spam'"
   ]
  },
  {
   "cell_type": "code",
   "execution_count": null,
   "metadata": {
    "provenance": [
     {
      "end_time": "Unknown",
      "execution_time": "Unknown",
      "outputs": [],
      "source": "'cats' not in 'cats and dogs'",
      "start_time": "Unknown"
     }
    ]
   },
   "outputs": [],
   "source": [
    "'cats' not in 'cats and dogs'"
   ]
  },
  {
   "cell_type": "markdown",
   "metadata": {
    "provenance": [
     {
      "last_modified": "2022-02-10T12:34:22.000Z",
      "source": "### The in and not in Operators with list"
     }
    ]
   },
   "source": [
    "### The in and not in Operators with list"
   ]
  },
  {
   "cell_type": "code",
   "execution_count": null,
   "metadata": {
    "provenance": [
     {
      "end_time": "Unknown",
      "execution_time": "Unknown",
      "outputs": [],
      "source": "a = [1, 2, 3, 4]\n5 in a",
      "start_time": "Unknown"
     }
    ]
   },
   "outputs": [],
   "source": [
    "a = [1, 2, 3, 4]\n",
    "5 in a"
   ]
  },
  {
   "cell_type": "code",
   "execution_count": null,
   "metadata": {
    "provenance": [
     {
      "end_time": "Unknown",
      "execution_time": "Unknown",
      "outputs": [],
      "source": "2 in a",
      "start_time": "Unknown"
     }
    ]
   },
   "outputs": [],
   "source": [
    "2 in a"
   ]
  },
  {
   "cell_type": "markdown",
   "metadata": {
    "provenance": [
     {
      "last_modified": "2022-02-10T12:34:22.000Z",
      "source": "### The upper, lower, isupper, and islower String Methods\n\n`upper()` and `lower()`:"
     }
    ]
   },
   "source": [
    "### The upper, lower, isupper, and islower String Methods\n",
    "\n",
    "`upper()` and `lower()`:"
   ]
  },
  {
   "cell_type": "code",
   "execution_count": null,
   "metadata": {
    "provenance": [
     {
      "end_time": "Unknown",
      "execution_time": "Unknown",
      "outputs": [],
      "source": "spam = 'Hello world!'\nspam = spam.upper()\nspam",
      "start_time": "Unknown"
     }
    ]
   },
   "outputs": [],
   "source": [
    "spam = 'Hello world!'\n",
    "spam = spam.upper()\n",
    "spam"
   ]
  },
  {
   "cell_type": "code",
   "execution_count": null,
   "metadata": {
    "provenance": [
     {
      "end_time": "Unknown",
      "execution_time": "Unknown",
      "outputs": [],
      "source": "spam = spam.lower()\nspam",
      "start_time": "Unknown"
     }
    ]
   },
   "outputs": [],
   "source": [
    "spam = spam.lower()\n",
    "spam"
   ]
  },
  {
   "cell_type": "markdown",
   "metadata": {
    "provenance": [
     {
      "last_modified": "2022-02-10T12:34:22.000Z",
      "source": "isupper() and islower():"
     }
    ]
   },
   "source": [
    "isupper() and islower():"
   ]
  },
  {
   "cell_type": "code",
   "execution_count": null,
   "metadata": {
    "provenance": [
     {
      "end_time": "Unknown",
      "execution_time": "Unknown",
      "outputs": [],
      "source": "spam = 'Hello world!'\nspam.islower()",
      "start_time": "Unknown"
     }
    ]
   },
   "outputs": [],
   "source": [
    "spam = 'Hello world!'\n",
    "spam.islower()"
   ]
  },
  {
   "cell_type": "code",
   "execution_count": null,
   "metadata": {
    "provenance": [
     {
      "end_time": "Unknown",
      "execution_time": "Unknown",
      "outputs": [],
      "source": "spam.isupper()",
      "start_time": "Unknown"
     }
    ]
   },
   "outputs": [],
   "source": [
    "spam.isupper()"
   ]
  },
  {
   "cell_type": "code",
   "execution_count": null,
   "metadata": {
    "provenance": [
     {
      "end_time": "Unknown",
      "execution_time": "Unknown",
      "outputs": [],
      "source": "'HELLO'.isupper()",
      "start_time": "Unknown"
     }
    ]
   },
   "outputs": [],
   "source": [
    "'HELLO'.isupper()"
   ]
  },
  {
   "cell_type": "code",
   "execution_count": null,
   "metadata": {
    "provenance": [
     {
      "end_time": "Unknown",
      "execution_time": "Unknown",
      "outputs": [],
      "source": "'abc12345'.islower()",
      "start_time": "Unknown"
     }
    ]
   },
   "outputs": [],
   "source": [
    "'abc12345'.islower()"
   ]
  },
  {
   "cell_type": "code",
   "execution_count": null,
   "metadata": {
    "provenance": [
     {
      "end_time": "Unknown",
      "execution_time": "Unknown",
      "outputs": [],
      "source": "'12345'.islower()",
      "start_time": "Unknown"
     }
    ]
   },
   "outputs": [],
   "source": [
    "'12345'.islower()"
   ]
  },
  {
   "cell_type": "code",
   "execution_count": null,
   "metadata": {
    "provenance": [
     {
      "end_time": "Unknown",
      "execution_time": "Unknown",
      "outputs": [],
      "source": "'12345'.isupper()",
      "start_time": "Unknown"
     }
    ]
   },
   "outputs": [],
   "source": [
    "'12345'.isupper()"
   ]
  },
  {
   "cell_type": "markdown",
   "metadata": {
    "provenance": [
     {
      "last_modified": "2022-02-10T12:34:22.000Z",
      "source": "### The isX String Methods\n\n- **isalpha()** returns True if the string consists only of letters and is not blank.\n- **isalnum()** returns True if the string consists only of lettersand numbers and is not blank.\n- **isdecimal()** returns True if the string consists only ofnumeric characters and is not blank.\n- **isspace()** returns True if the string consists only of spaces,tabs, and new-lines and is not blank.\n- **istitle()** returns True if the string consists only of wordsthat begin with an uppercase letter followed by onlylowercase letters.\n\n### The startswith and endswith String Methods"
     }
    ]
   },
   "source": [
    "### The isX String Methods\n",
    "\n",
    "- **isalpha()** returns True if the string consists only of letters and is not blank.\n",
    "- **isalnum()** returns True if the string consists only of lettersand numbers and is not blank.\n",
    "- **isdecimal()** returns True if the string consists only ofnumeric characters and is not blank.\n",
    "- **isspace()** returns True if the string consists only of spaces,tabs, and new-lines and is not blank.\n",
    "- **istitle()** returns True if the string consists only of wordsthat begin with an uppercase letter followed by onlylowercase letters.\n",
    "\n",
    "### The startswith and endswith String Methods"
   ]
  },
  {
   "cell_type": "code",
   "execution_count": null,
   "metadata": {
    "provenance": [
     {
      "end_time": "Unknown",
      "execution_time": "Unknown",
      "outputs": [],
      "source": "'Hello world!'.startswith('Hello')",
      "start_time": "Unknown"
     }
    ]
   },
   "outputs": [],
   "source": [
    "'Hello world!'.startswith('Hello')"
   ]
  },
  {
   "cell_type": "code",
   "execution_count": null,
   "metadata": {
    "provenance": [
     {
      "end_time": "Unknown",
      "execution_time": "Unknown",
      "outputs": [],
      "source": "'Hello world!'.endswith('world!')",
      "start_time": "Unknown"
     }
    ]
   },
   "outputs": [],
   "source": [
    "'Hello world!'.endswith('world!')"
   ]
  },
  {
   "cell_type": "code",
   "execution_count": null,
   "metadata": {
    "provenance": [
     {
      "end_time": "Unknown",
      "execution_time": "Unknown",
      "outputs": [],
      "source": "'abc123'.startswith('abcdef')",
      "start_time": "Unknown"
     }
    ]
   },
   "outputs": [],
   "source": [
    "'abc123'.startswith('abcdef')"
   ]
  },
  {
   "cell_type": "code",
   "execution_count": null,
   "metadata": {
    "provenance": [
     {
      "end_time": "Unknown",
      "execution_time": "Unknown",
      "outputs": [],
      "source": "'abc123'.endswith('12')",
      "start_time": "Unknown"
     }
    ]
   },
   "outputs": [],
   "source": [
    "'abc123'.endswith('12')"
   ]
  },
  {
   "cell_type": "code",
   "execution_count": null,
   "metadata": {
    "provenance": [
     {
      "end_time": "Unknown",
      "execution_time": "Unknown",
      "outputs": [],
      "source": "'Hello world!'.startswith('Hello world!')",
      "start_time": "Unknown"
     }
    ]
   },
   "outputs": [],
   "source": [
    "'Hello world!'.startswith('Hello world!')"
   ]
  },
  {
   "cell_type": "code",
   "execution_count": null,
   "metadata": {
    "provenance": [
     {
      "end_time": "Unknown",
      "execution_time": "Unknown",
      "outputs": [],
      "source": "'Hello world!'.endswith('Hello world!')",
      "start_time": "Unknown"
     }
    ]
   },
   "outputs": [],
   "source": [
    "'Hello world!'.endswith('Hello world!')"
   ]
  },
  {
   "cell_type": "markdown",
   "metadata": {
    "provenance": [
     {
      "last_modified": "2022-02-10T12:34:22.000Z",
      "source": "### The join and split String Methods\n\njoin():"
     }
    ]
   },
   "source": [
    "### The join and split String Methods\n",
    "\n",
    "join():"
   ]
  },
  {
   "cell_type": "code",
   "execution_count": null,
   "metadata": {
    "provenance": [
     {
      "end_time": "Unknown",
      "execution_time": "Unknown",
      "outputs": [],
      "source": "', '.join(['cats', 'rats', 'bats'])",
      "start_time": "Unknown"
     }
    ]
   },
   "outputs": [],
   "source": [
    "', '.join(['cats', 'rats', 'bats'])"
   ]
  },
  {
   "cell_type": "code",
   "execution_count": null,
   "metadata": {
    "provenance": [
     {
      "end_time": "Unknown",
      "execution_time": "Unknown",
      "outputs": [],
      "source": "' '.join(['My', 'name', 'is', 'Simon'])",
      "start_time": "Unknown"
     }
    ]
   },
   "outputs": [],
   "source": [
    "' '.join(['My', 'name', 'is', 'Simon'])"
   ]
  },
  {
   "cell_type": "code",
   "execution_count": null,
   "metadata": {
    "provenance": [
     {
      "end_time": "Unknown",
      "execution_time": "Unknown",
      "outputs": [],
      "source": "'ABC'.join(['My', 'name', 'is', 'Simon'])",
      "start_time": "Unknown"
     }
    ]
   },
   "outputs": [],
   "source": [
    "'ABC'.join(['My', 'name', 'is', 'Simon'])"
   ]
  },
  {
   "cell_type": "markdown",
   "metadata": {
    "provenance": [
     {
      "last_modified": "2022-02-10T12:34:22.000Z",
      "source": "split():"
     }
    ]
   },
   "source": [
    "split():"
   ]
  },
  {
   "cell_type": "code",
   "execution_count": null,
   "metadata": {
    "provenance": [
     {
      "end_time": "Unknown",
      "execution_time": "Unknown",
      "outputs": [],
      "source": "'My name is Simon'.split()",
      "start_time": "Unknown"
     }
    ]
   },
   "outputs": [],
   "source": [
    "'My name is Simon'.split()"
   ]
  },
  {
   "cell_type": "code",
   "execution_count": null,
   "metadata": {
    "provenance": [
     {
      "end_time": "Unknown",
      "execution_time": "Unknown",
      "outputs": [],
      "source": "'MyABCnameABCisABCSimon'.split('ABC')",
      "start_time": "Unknown"
     }
    ]
   },
   "outputs": [],
   "source": [
    "'MyABCnameABCisABCSimon'.split('ABC')"
   ]
  },
  {
   "cell_type": "code",
   "execution_count": null,
   "metadata": {
    "provenance": [
     {
      "end_time": "Unknown",
      "execution_time": "Unknown",
      "outputs": [],
      "source": "'My name is Simon'.split('m')",
      "start_time": "Unknown"
     }
    ]
   },
   "outputs": [],
   "source": [
    "'My name is Simon'.split('m')"
   ]
  },
  {
   "cell_type": "markdown",
   "metadata": {
    "provenance": [
     {
      "last_modified": "2022-02-10T12:34:22.000Z",
      "source": "### Justifying Text with rjust, ljust, and center\n\nrjust() and ljust():"
     }
    ]
   },
   "source": [
    "### Justifying Text with rjust, ljust, and center\n",
    "\n",
    "rjust() and ljust():"
   ]
  },
  {
   "cell_type": "code",
   "execution_count": null,
   "metadata": {
    "provenance": [
     {
      "end_time": "Unknown",
      "execution_time": "Unknown",
      "outputs": [],
      "source": "'Hello'.rjust(10)",
      "start_time": "Unknown"
     }
    ]
   },
   "outputs": [],
   "source": [
    "'Hello'.rjust(10)"
   ]
  },
  {
   "cell_type": "code",
   "execution_count": null,
   "metadata": {
    "provenance": [
     {
      "end_time": "Unknown",
      "execution_time": "Unknown",
      "outputs": [],
      "source": "'Hello'.rjust(20)",
      "start_time": "Unknown"
     }
    ]
   },
   "outputs": [],
   "source": [
    "'Hello'.rjust(20)"
   ]
  },
  {
   "cell_type": "code",
   "execution_count": null,
   "metadata": {
    "provenance": [
     {
      "end_time": "Unknown",
      "execution_time": "Unknown",
      "outputs": [],
      "source": "'Hello World'.rjust(20)",
      "start_time": "Unknown"
     }
    ]
   },
   "outputs": [],
   "source": [
    "'Hello World'.rjust(20)"
   ]
  },
  {
   "cell_type": "code",
   "execution_count": null,
   "metadata": {
    "provenance": [
     {
      "end_time": "Unknown",
      "execution_time": "Unknown",
      "outputs": [],
      "source": "'Hello'.ljust(10)",
      "start_time": "Unknown"
     }
    ]
   },
   "outputs": [],
   "source": [
    "'Hello'.ljust(10)"
   ]
  },
  {
   "cell_type": "markdown",
   "metadata": {
    "provenance": [
     {
      "last_modified": "2022-02-10T12:34:22.000Z",
      "source": "An optional second argument to rjust() and ljust() will specify a fill character other than a space character. Enter the following into the interactive shell:"
     }
    ]
   },
   "source": [
    "An optional second argument to rjust() and ljust() will specify a fill character other than a space character. Enter the following into the interactive shell:"
   ]
  },
  {
   "cell_type": "code",
   "execution_count": null,
   "metadata": {
    "provenance": [
     {
      "end_time": "Unknown",
      "execution_time": "Unknown",
      "outputs": [],
      "source": "'Hello'.rjust(20, '*')",
      "start_time": "Unknown"
     }
    ]
   },
   "outputs": [],
   "source": [
    "'Hello'.rjust(20, '*')"
   ]
  },
  {
   "cell_type": "code",
   "execution_count": null,
   "metadata": {
    "provenance": [
     {
      "end_time": "Unknown",
      "execution_time": "Unknown",
      "outputs": [],
      "source": "'Hello'.ljust(20, '-')",
      "start_time": "Unknown"
     }
    ]
   },
   "outputs": [],
   "source": [
    "'Hello'.ljust(20, '-')"
   ]
  },
  {
   "cell_type": "markdown",
   "metadata": {
    "provenance": [
     {
      "last_modified": "2022-02-10T12:34:22.000Z",
      "source": "center():"
     }
    ]
   },
   "source": [
    "center():"
   ]
  },
  {
   "cell_type": "code",
   "execution_count": null,
   "metadata": {
    "provenance": [
     {
      "end_time": "Unknown",
      "execution_time": "Unknown",
      "outputs": [],
      "source": "'Hello'.center(20)",
      "start_time": "Unknown"
     }
    ]
   },
   "outputs": [],
   "source": [
    "'Hello'.center(20)"
   ]
  },
  {
   "cell_type": "code",
   "execution_count": null,
   "metadata": {
    "provenance": [
     {
      "end_time": "Unknown",
      "execution_time": "Unknown",
      "outputs": [],
      "source": "'Hello'.center(20, '=')",
      "start_time": "Unknown"
     }
    ]
   },
   "outputs": [],
   "source": [
    "'Hello'.center(20, '=')"
   ]
  },
  {
   "cell_type": "markdown",
   "metadata": {
    "provenance": [
     {
      "last_modified": "2022-02-10T12:34:22.000Z",
      "source": "### Removing Whitespace with strip, rstrip, and lstrip"
     }
    ]
   },
   "source": [
    "### Removing Whitespace with strip, rstrip, and lstrip"
   ]
  },
  {
   "cell_type": "code",
   "execution_count": null,
   "metadata": {
    "provenance": [
     {
      "end_time": "Unknown",
      "execution_time": "Unknown",
      "outputs": [],
      "source": "spam = '    Hello World     '\nspam.strip()",
      "start_time": "Unknown"
     }
    ]
   },
   "outputs": [],
   "source": [
    "spam = '    Hello World     '\n",
    "spam.strip()"
   ]
  },
  {
   "cell_type": "code",
   "execution_count": null,
   "metadata": {
    "provenance": [
     {
      "end_time": "Unknown",
      "execution_time": "Unknown",
      "outputs": [],
      "source": "spam.lstrip()",
      "start_time": "Unknown"
     }
    ]
   },
   "outputs": [],
   "source": [
    "spam.lstrip()"
   ]
  },
  {
   "cell_type": "code",
   "execution_count": null,
   "metadata": {
    "provenance": [
     {
      "end_time": "Unknown",
      "execution_time": "Unknown",
      "outputs": [],
      "source": "spam.rstrip()",
      "start_time": "Unknown"
     }
    ]
   },
   "outputs": [],
   "source": [
    "spam.rstrip()"
   ]
  },
  {
   "cell_type": "code",
   "execution_count": null,
   "metadata": {
    "provenance": [
     {
      "end_time": "Unknown",
      "execution_time": "Unknown",
      "outputs": [],
      "source": "spam = 'SpamSpamBaconSpamEggsSpamSpam'\nspam.strip('ampS')",
      "start_time": "Unknown"
     }
    ]
   },
   "outputs": [],
   "source": [
    "spam = 'SpamSpamBaconSpamEggsSpamSpam'\n",
    "spam.strip('ampS')"
   ]
  },
  {
   "cell_type": "markdown",
   "metadata": {
    "provenance": [
     {
      "last_modified": "2022-02-10T12:34:22.000Z",
      "source": "### Copying and Pasting Strings with the pyperclip Module\n\nFirst, install `pypeerclip` with pip:"
     }
    ]
   },
   "source": [
    "### Copying and Pasting Strings with the pyperclip Module\n",
    "\n",
    "First, install `pypeerclip` with pip:"
   ]
  },
  {
   "cell_type": "code",
   "execution_count": null,
   "metadata": {
    "attributes": {
     "classes": [
      "shell"
     ],
     "id": ""
    },
    "provenance": [
     {
      "end_time": "Unknown",
      "execution_time": "Unknown",
      "outputs": [],
      "source": "pip install pyperclip",
      "start_time": "Unknown"
     }
    ]
   },
   "outputs": [],
   "source": [
    "pip install pyperclip"
   ]
  },
  {
   "cell_type": "code",
   "execution_count": null,
   "metadata": {
    "provenance": [
     {
      "end_time": "Unknown",
      "execution_time": "Unknown",
      "outputs": [],
      "source": "import pyperclip\n\npyperclip.copy('Hello world!')\npyperclip.paste()",
      "start_time": "Unknown"
     }
    ]
   },
   "outputs": [],
   "source": [
    "import pyperclip\n",
    "\n",
    "pyperclip.copy('Hello world!')\n",
    "pyperclip.paste()"
   ]
  }
 ],
 "metadata": {
  "kernelspec": {
   "display_name": "Python 3 (ipykernel)",
   "language": "python",
   "name": "python3"
  },
  "language_info": {
   "codemirror_mode": {
    "name": "ipython",
    "version": 3
   },
   "file_extension": ".py",
   "mimetype": "text/x-python",
   "name": "python",
   "nbconvert_exporter": "python",
   "pygments_lexer": "ipython3",
   "version": "3.8.10"
  }
 },
 "nbformat": 4,
 "nbformat_minor": 2
}
