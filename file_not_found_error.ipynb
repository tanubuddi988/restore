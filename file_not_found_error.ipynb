{
 "cells": [
  {
   "cell_type": "code",
   "execution_count": 2,
   "id": "8612f9c9",
   "metadata": {
    "ExecutionTime": {
     "end_time": "2022-01-28T07:23:32.589384Z",
     "start_time": "2022-01-28T07:23:32.530757Z"
    },
    "provenance": [
     {
      "end_time": "Unknown",
      "execution_time": "Unknown",
      "outputs": [],
      "source": "",
      "start_time": "Unknown"
     },
     {
      "end_time": "2022-01-28T07:18:51.565Z",
      "execution_time": "32ms",
      "outputs": [
       {
        "name": "stdout",
        "output_type": "stream",
        "text": "tmpfiles.d\nsensors3.conf\nlocale.gen\nhp\nudev\nfstab\nbrlapi.key\ndebconf.conf\nmtab\nX11\nenvironment\ngamemode.ini\nifplugd\nrc6.d\napg.conf\nsubuid\ngroff\nssh\nsubgid\npnm2ppa.conf\ninit\nmime.types\npasswd\nld.so.conf.d\ndbus-1\nspeech-dispatcher\nservices\ngshadow-\ncupshelpers\nmodules-load.d\nld.so.conf\nbash.bashrc\nacpi\ncron.weekly\nrsyslog.conf\ntimezone\nhost.conf\nprofile.d\nvtrgb\nlegal\nUPower\nshells\nprofile\nsane.d\nca-certificates.conf.dpkg-old\nmodules\nfuse.conf\nchatscripts\nlogcheck\nrsyslog.d\nbindresvport.blacklist\nxattr.conf\nghostscript\nos-release\nmailcap\nhostname\nmtools.conf\nbash_completion.d\nwgetrc\ngshadow\nmagic.mime\nvconsole.conf\nusb_modeswitch.d\nsysctl.conf\nusb_modeswitch.conf\nmke2fs.conf\napm\nkernel-img.conf\nvim\nufw\ndpkg\n.pwd.lock\nshadow\nrpc\nxdg\nthunderbird\nlocale.alias\nvulkan\ngai.conf\nconsole-setup\nkerneloops.conf\nresolv.conf\ndebian_version\nxml\nnanorc\nhosts.allow\nnetwork\nterminfo\ngroup-\nhosts.deny\ncron.d\nlibaudit.conf\nshadow-\ngroup\navahi\nfwupd\nsystemd\nsysctl.d\nfirefox\nlighttpd\nsubuid-\nlibpaper.d\ndeluser.conf\nsubgid-\nlibblockdev\npopularity-contest.conf\nfonts\nrc3.d\ngrub.d\nemacs\ne2scrub.conf\nalternatives\nsensors.d\ndconf\nrc0.d\npam.d\nethertypes\nappstream.conf\nmanpath.config\nssl\nwpa_supplicant\ncron.daily\nmachine-id\nanacrontab\niproute2\nissue\nhosts\npapersize\ndepmod.d\nrc1.d\nrc5.d\nskel\nupdate-notifier\nalsa\nnetplan\ngeoclue\nmodprobe.d\nhdparm.conf\nopenvpn\nucf.conf\nenvironment.d\nfprintd.conf\ndictionaries-common\nca-certificates.conf\npasswd-\napparmor\nsudoers.d\nperl\ninit.d\napache2\ngnome\nlibnl-3\nnsswitch.conf\npm\nldap\ndefault\ncalendar\nbrltty.conf\nzsh_command_not_found\nnewt\nselinux\nadduser.conf\ncron.monthly\ngtk-2.0\npython2.7\nNetworkManager\nca-certificates\nPackageKit\nglvnd\npulse\nmysql\ninsserv.conf.d\nmagic\nupdate-manager\ncups\nsecurity\npcmcia\nbrltty\nppp\nbash_completion\ncron.hourly\nltrace.conf\nnetworkd-dispatcher\nissue.net\nubuntu-advantage\ncracklib\nudisks2\npam.conf\nbinfmt.d\nrygel.conf\ninitramfs-tools\npki\nrmt\nnetworks\nlogrotate.d\nsnmp\nlibao.conf\ncrontab\nprotocols\nkernel\ninputrc\nanydesk\nrc4.d\nupdate-motd.d\nmailcap.order\nbluetooth\nopt\nsgml\nlsb-release\nlogin.defs\nrcS.d\npolkit-1\ngdm3\nlibreoffice\nthermald\napport\npython3\ngss\nhostid\napt\nlogrotate.conf\nlocaltime\npython3.8\nld.so.cache\nsudoers\ngdb\nrc2.d\ngtk-3.0\napparmor.d\ndhcp\n"
       }
      ],
      "source": "import os\nfor f in os.listdir(\"/etc\"):\n\tprint(f)",
      "start_time": "2022-01-28T07:18:51.533Z"
     },
     {
      "end_time": "2022-01-28T07:23:32.589Z",
      "execution_time": "59ms",
      "outputs": [
       {
        "ename": "FileNotFoundError",
        "evalue": "[Errno 2] No such file or directory: '/tec'",
        "output_type": "error",
        "traceback": [
         "\u001b[0;31m---------------------------------------------------------------------------\u001b[0m",
         "\u001b[0;31mFileNotFoundError\u001b[0m                         Traceback (most recent call last)",
         "\u001b[0;32m/tmp/ipykernel_4401/870823682.py\u001b[0m in \u001b[0;36m<module>\u001b[0;34m\u001b[0m\n\u001b[1;32m      1\u001b[0m \u001b[0;32mimport\u001b[0m \u001b[0mos\u001b[0m\u001b[0;34m\u001b[0m\u001b[0;34m\u001b[0m\u001b[0m\n\u001b[0;32m----> 2\u001b[0;31m \u001b[0;32mfor\u001b[0m \u001b[0mf\u001b[0m \u001b[0;32min\u001b[0m \u001b[0mos\u001b[0m\u001b[0;34m.\u001b[0m\u001b[0mlistdir\u001b[0m\u001b[0;34m(\u001b[0m\u001b[0;34m\"/tec\"\u001b[0m\u001b[0;34m)\u001b[0m\u001b[0;34m:\u001b[0m\u001b[0;34m\u001b[0m\u001b[0;34m\u001b[0m\u001b[0m\n\u001b[0m\u001b[1;32m      3\u001b[0m         \u001b[0mprint\u001b[0m\u001b[0;34m(\u001b[0m\u001b[0mf\u001b[0m\u001b[0;34m)\u001b[0m\u001b[0;34m\u001b[0m\u001b[0;34m\u001b[0m\u001b[0m\n",
         "\u001b[0;31mFileNotFoundError\u001b[0m: [Errno 2] No such file or directory: '/tec'"
        ]
       }
      ],
      "source": "import os\nfor f in os.listdir(\"/tec\"):\n\tprint(f)",
      "start_time": "2022-01-28T07:23:32.530Z"
     }
    ]
   },
   "outputs": [
    {
     "ename": "FileNotFoundError",
     "evalue": "[Errno 2] No such file or directory: '/tec'",
     "output_type": "error",
     "traceback": [
      "\u001b[0;31m---------------------------------------------------------------------------\u001b[0m",
      "\u001b[0;31mFileNotFoundError\u001b[0m                         Traceback (most recent call last)",
      "\u001b[0;32m/tmp/ipykernel_4401/870823682.py\u001b[0m in \u001b[0;36m<module>\u001b[0;34m\u001b[0m\n\u001b[1;32m      1\u001b[0m \u001b[0;32mimport\u001b[0m \u001b[0mos\u001b[0m\u001b[0;34m\u001b[0m\u001b[0;34m\u001b[0m\u001b[0m\n\u001b[0;32m----> 2\u001b[0;31m \u001b[0;32mfor\u001b[0m \u001b[0mf\u001b[0m \u001b[0;32min\u001b[0m \u001b[0mos\u001b[0m\u001b[0;34m.\u001b[0m\u001b[0mlistdir\u001b[0m\u001b[0;34m(\u001b[0m\u001b[0;34m\"/tec\"\u001b[0m\u001b[0;34m)\u001b[0m\u001b[0;34m:\u001b[0m\u001b[0;34m\u001b[0m\u001b[0;34m\u001b[0m\u001b[0m\n\u001b[0m\u001b[1;32m      3\u001b[0m         \u001b[0mprint\u001b[0m\u001b[0;34m(\u001b[0m\u001b[0mf\u001b[0m\u001b[0;34m)\u001b[0m\u001b[0;34m\u001b[0m\u001b[0;34m\u001b[0m\u001b[0m\n",
      "\u001b[0;31mFileNotFoundError\u001b[0m: [Errno 2] No such file or directory: '/tec'"
     ]
    }
   ],
   "source": [
    "import os\n",
    "for f in os.listdir(\"/tec\"):\n",
    "\tprint(f)"
   ]
  },
  {
   "cell_type": "code",
   "execution_count": null,
   "id": "e9d15b37",
   "metadata": {},
   "outputs": [],
   "source": []
  }
 ],
 "metadata": {
  "kernelspec": {
   "display_name": "Python 3 (ipykernel)",
   "language": "python",
   "name": "python3"
  },
  "language_info": {
   "codemirror_mode": {
    "name": "ipython",
    "version": 3
   },
   "file_extension": ".py",
   "mimetype": "text/x-python",
   "name": "python",
   "nbconvert_exporter": "python",
   "pygments_lexer": "ipython3",
   "version": "3.8.10"
  }
 },
 "nbformat": 4,
 "nbformat_minor": 5
}
